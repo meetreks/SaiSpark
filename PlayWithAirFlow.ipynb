{
  "nbformat": 4,
  "nbformat_minor": 0,
  "metadata": {
    "colab": {
      "name": "PlayWithAirFlow.ipynb",
      "provenance": [],
      "collapsed_sections": [],
      "authorship_tag": "ABX9TyPRYJXIiBYMafW6DHSjtB8h",
      "include_colab_link": true
    },
    "kernelspec": {
      "name": "python3",
      "display_name": "Python 3"
    }
  },
  "cells": [
    {
      "cell_type": "markdown",
      "metadata": {
        "id": "view-in-github",
        "colab_type": "text"
      },
      "source": [
        "<a href=\"https://colab.research.google.com/github/meetreks/SaiSpark/blob/master/PlayWithAirFlow.ipynb\" target=\"_parent\"><img src=\"https://colab.research.google.com/assets/colab-badge.svg\" alt=\"Open In Colab\"/></a>"
      ]
    },
    {
      "cell_type": "code",
      "metadata": {
        "id": "eYOwAlgKL5WV"
      },
      "source": [
        "!pip install apache-airflow"
      ],
      "execution_count": null,
      "outputs": []
    },
    {
      "cell_type": "code",
      "metadata": {
        "id": "qQRlCVFzSa1G"
      },
      "source": [
        "!airflow initdb"
      ],
      "execution_count": null,
      "outputs": []
    },
    {
      "cell_type": "code",
      "metadata": {
        "id": "Ymdlfq64SsCt"
      },
      "source": [
        "!airflow webserver -p 8080"
      ],
      "execution_count": null,
      "outputs": []
    },
    {
      "cell_type": "code",
      "metadata": {
        "id": "gCUGIzC0SxEA",
        "outputId": "ac609a4c-42df-4da6-881a-9cf9cbd4f226",
        "colab": {
          "base_uri": "https://localhost:8080/",
          "height": 34
        }
      },
      "source": [
        "!airflow scheduler"
      ],
      "execution_count": 4,
      "outputs": [
        {
          "output_type": "stream",
          "text": [
            "[\u001b[34m2020-09-26 12:15:04,624\u001b[0m] {\u001b[34mhelpers.py:\u001b[0m325} INFO\u001b[0m - Sending Signals.SIGTERM to GPID 380\u001b[0m\n",
            "\u001b[0m"
          ],
          "name": "stdout"
        }
      ]
    },
    {
      "cell_type": "code",
      "metadata": {
        "id": "-bMGFsCWT7Aw",
        "outputId": "d7320634-1e82-4147-b498-849c45dd7f16",
        "colab": {
          "base_uri": "https://localhost:8080/",
          "height": 207
        }
      },
      "source": [
        "!airflow run example_bash_operator runme_0 2015-01-01"
      ],
      "execution_count": 5,
      "outputs": [
        {
          "output_type": "stream",
          "text": [
            "/usr/local/lib/python3.6/dist-packages/psycopg2/__init__.py:144: UserWarning: The psycopg2 wheel package will be renamed from release 2.8; in order to keep installing from binary please use \"pip install psycopg2-binary\" instead. For details see: <http://initd.org/psycopg/docs/install.html#binary-install-from-pypi>.\n",
            "  \"\"\")\n",
            "[\u001b[34m2020-09-26 12:15:06,431\u001b[0m] {\u001b[34m__init__.py:\u001b[0m50} INFO\u001b[0m - Using executor \u001b[01mSequentialExecutor\u001b[22m\u001b[0m\n",
            "[\u001b[34m2020-09-26 12:15:06,432\u001b[0m] {\u001b[34mdagbag.py:\u001b[0m417} INFO\u001b[0m - Filling up the DagBag from \u001b[01m/root/airflow/dags\u001b[22m\u001b[0m\n",
            "Running %s on host %s <TaskInstance: example_bash_operator.runme_0 2015-01-01T00:00:00+00:00 [None]> f905e99ed798\n",
            "/usr/local/lib/python3.6/dist-packages/psycopg2/__init__.py:144: UserWarning: The psycopg2 wheel package will be renamed from release 2.8; in order to keep installing from binary please use \"pip install psycopg2-binary\" instead. For details see: <http://initd.org/psycopg/docs/install.html#binary-install-from-pypi>.\n",
            "  \"\"\")\n",
            "[\u001b[34m2020-09-26 12:15:08,024\u001b[0m] {\u001b[34m__init__.py:\u001b[0m50} INFO\u001b[0m - Using executor \u001b[01mSequentialExecutor\u001b[22m\u001b[0m\n",
            "[\u001b[34m2020-09-26 12:15:08,025\u001b[0m] {\u001b[34mdagbag.py:\u001b[0m417} INFO\u001b[0m - Filling up the DagBag from \u001b[01m/usr/local/lib/python3.6/dist-packages/airflow/example_dags/example_bash_operator.py\u001b[22m\u001b[0m\n",
            "Running %s on host %s <TaskInstance: example_bash_operator.runme_0 2015-01-01T00:00:00+00:00 [None]> f905e99ed798\n",
            "\u001b[0m\u001b[0m"
          ],
          "name": "stdout"
        }
      ]
    },
    {
      "cell_type": "code",
      "metadata": {
        "id": "-JvQ-xrUUHQC",
        "outputId": "793955da-0559-4532-c1d5-0eabfaaa5204",
        "colab": {
          "base_uri": "https://localhost:8080/",
          "height": 34
        }
      },
      "source": [
        "\n",
        "from datetime import timedelta\n",
        "\n",
        "# The DAG object; we'll need this to instantiate a DAG\n",
        "from airflow import DAG\n",
        "# Operators; we need this to operate!\n",
        "from airflow.operators.bash_operator import BashOperator\n",
        "from airflow.utils.dates import days_ago\n",
        "# These args will get passed on to each operator\n",
        "# You can override them on a per-task basis during operator initialization\n",
        "default_args = {\n",
        "    'owner': 'airflow',\n",
        "    'depends_on_past': False,\n",
        "    'start_date': days_ago(2),\n",
        "    'email': ['airflow@example.com'],\n",
        "    'email_on_failure': False,\n",
        "    'email_on_retry': False,\n",
        "    'retries': 1,\n",
        "    'retry_delay': timedelta(minutes=5),\n",
        "    # 'queue': 'bash_queue',\n",
        "    # 'pool': 'backfill',\n",
        "    # 'priority_weight': 10,\n",
        "    # 'end_date': datetime(2016, 1, 1),\n",
        "    # 'wait_for_downstream': False,\n",
        "    # 'dag': dag,\n",
        "    # 'sla': timedelta(hours=2),\n",
        "    # 'execution_timeout': timedelta(seconds=300),\n",
        "    # 'on_failure_callback': some_function,\n",
        "    # 'on_success_callback': some_other_function,\n",
        "    # 'on_retry_callback': another_function,\n",
        "    # 'sla_miss_callback': yet_another_function,\n",
        "    # 'trigger_rule': 'all_success'\n",
        "}\n",
        "dag = DAG(\n",
        "    'tutorial',\n",
        "    default_args=default_args,\n",
        "    description='A simple tutorial DAG',\n",
        "    schedule_interval=timedelta(days=1),\n",
        ")\n",
        "\n",
        "# t1, t2 and t3 are examples of tasks created by instantiating operators\n",
        "t1 = BashOperator(\n",
        "    task_id='print_date',\n",
        "    bash_command='date',\n",
        "    dag=dag,\n",
        ")\n",
        "\n",
        "t2 = BashOperator(\n",
        "    task_id='sleep',\n",
        "    depends_on_past=False,\n",
        "    bash_command='sleep 5',\n",
        "    retries=3,\n",
        "    dag=dag,\n",
        ")\n",
        "dag.doc_md = __doc__\n",
        "\n",
        "t1.doc_md = \"\"\"\\\n",
        "#### Task Documentation\n",
        "You can document your task using the attributes `doc_md` (markdown),\n",
        "`doc` (plain text), `doc_rst`, `doc_json`, `doc_yaml` which gets\n",
        "rendered in the UI's Task Instance Details page.\n",
        "![img](http://montcs.bloomu.edu/~bobmon/Semesters/2012-01/491/import%20soul.png)\n",
        "\"\"\"\n",
        "templated_command = \"\"\"\n",
        "{% for i in range(5) %}\n",
        "    echo \"{{ ds }}\"\n",
        "    echo \"{{ macros.ds_add(ds, 7)}}\"\n",
        "    echo \"{{ params.my_param }}\"\n",
        "{% endfor %}\n",
        "\"\"\"\n",
        "\n",
        "t3 = BashOperator(\n",
        "    task_id='templated',\n",
        "    depends_on_past=False,\n",
        "    bash_command=templated_command,\n",
        "    params={'my_param': 'Parameter I passed in'},\n",
        "    dag=dag,\n",
        ")\n",
        "\n",
        "t1 >> [t2, t3]"
      ],
      "execution_count": 6,
      "outputs": [
        {
          "output_type": "execute_result",
          "data": {
            "text/plain": [
              "[<Task(BashOperator): sleep>, <Task(BashOperator): templated>]"
            ]
          },
          "metadata": {
            "tags": []
          },
          "execution_count": 6
        }
      ]
    },
    {
      "cell_type": "code",
      "metadata": {
        "id": "eAWMKk32UnSJ",
        "outputId": "7f82fde4-05f3-4fea-99ee-8115c64ad562",
        "colab": {
          "base_uri": "https://localhost:8080/",
          "height": 615
        }
      },
      "source": [
        "!airflow list_dags"
      ],
      "execution_count": 7,
      "outputs": [
        {
          "output_type": "stream",
          "text": [
            "/usr/local/lib/python3.6/dist-packages/psycopg2/__init__.py:144: UserWarning: The psycopg2 wheel package will be renamed from release 2.8; in order to keep installing from binary please use \"pip install psycopg2-binary\" instead. For details see: <http://initd.org/psycopg/docs/install.html#binary-install-from-pypi>.\n",
            "  \"\"\")\n",
            "[2020-09-26 12:16:30,136] {__init__.py:50} INFO - Using executor SequentialExecutor\n",
            "[2020-09-26 12:16:30,136] {dagbag.py:417} INFO - Filling up the DagBag from /root/airflow/dags\n",
            "\n",
            "\n",
            "-------------------------------------------------------------------\n",
            "DAGS\n",
            "-------------------------------------------------------------------\n",
            "example_bash_operator\n",
            "example_branch_dop_operator_v3\n",
            "example_branch_operator\n",
            "example_complex\n",
            "example_external_task_marker_child\n",
            "example_external_task_marker_parent\n",
            "example_http_operator\n",
            "example_kubernetes_executor_config\n",
            "example_nested_branch_dag\n",
            "example_passing_params_via_test_command\n",
            "example_pig_operator\n",
            "example_python_operator\n",
            "example_short_circuit_operator\n",
            "example_skip_dag\n",
            "example_subdag_operator\n",
            "example_subdag_operator.section-1\n",
            "example_subdag_operator.section-2\n",
            "example_trigger_controller_dag\n",
            "example_trigger_target_dag\n",
            "example_xcom\n",
            "latest_only\n",
            "latest_only_with_trigger\n",
            "test_utils\n",
            "tutorial\n",
            "\n"
          ],
          "name": "stdout"
        }
      ]
    },
    {
      "cell_type": "code",
      "metadata": {
        "id": "PUDbGg66V9gq",
        "outputId": "c4d023ec-b94a-4165-d3c6-caa7520bf923",
        "colab": {
          "base_uri": "https://localhost:8080/",
          "height": 156
        }
      },
      "source": [
        "!airflow list_tasks tutorial"
      ],
      "execution_count": 8,
      "outputs": [
        {
          "output_type": "stream",
          "text": [
            "/usr/local/lib/python3.6/dist-packages/psycopg2/__init__.py:144: UserWarning: The psycopg2 wheel package will be renamed from release 2.8; in order to keep installing from binary please use \"pip install psycopg2-binary\" instead. For details see: <http://initd.org/psycopg/docs/install.html#binary-install-from-pypi>.\n",
            "  \"\"\")\n",
            "[2020-09-26 12:16:56,521] {__init__.py:50} INFO - Using executor SequentialExecutor\n",
            "[2020-09-26 12:16:56,521] {dagbag.py:417} INFO - Filling up the DagBag from /root/airflow/dags\n",
            "print_date\n",
            "sleep\n",
            "templated\n"
          ],
          "name": "stdout"
        }
      ]
    },
    {
      "cell_type": "code",
      "metadata": {
        "id": "fKLcR-smWD_A",
        "outputId": "a359d060-1d3f-4d08-f1b7-115040035d6d",
        "colab": {
          "base_uri": "https://localhost:8080/",
          "height": 156
        }
      },
      "source": [
        "!airflow list_tasks tutorial --tree"
      ],
      "execution_count": 10,
      "outputs": [
        {
          "output_type": "stream",
          "text": [
            "/usr/local/lib/python3.6/dist-packages/psycopg2/__init__.py:144: UserWarning: The psycopg2 wheel package will be renamed from release 2.8; in order to keep installing from binary please use \"pip install psycopg2-binary\" instead. For details see: <http://initd.org/psycopg/docs/install.html#binary-install-from-pypi>.\n",
            "  \"\"\")\n",
            "[2020-09-26 12:17:14,518] {__init__.py:50} INFO - Using executor SequentialExecutor\n",
            "[2020-09-26 12:17:14,518] {dagbag.py:417} INFO - Filling up the DagBag from /root/airflow/dags\n",
            "<Task(BashOperator): print_date>\n",
            "    <Task(BashOperator): templated>\n",
            "    <Task(BashOperator): sleep>\n"
          ],
          "name": "stdout"
        }
      ]
    },
    {
      "cell_type": "code",
      "metadata": {
        "id": "WkPvCwfpWHPH",
        "outputId": "31a8b7c3-83d4-49fa-8fb4-00fb5cbbeec0",
        "colab": {
          "base_uri": "https://localhost:8080/",
          "height": 377
        }
      },
      "source": [
        "!airflow test tutorial print_date 2015-06-01"
      ],
      "execution_count": 11,
      "outputs": [
        {
          "output_type": "stream",
          "text": [
            "/usr/local/lib/python3.6/dist-packages/psycopg2/__init__.py:144: UserWarning: The psycopg2 wheel package will be renamed from release 2.8; in order to keep installing from binary please use \"pip install psycopg2-binary\" instead. For details see: <http://initd.org/psycopg/docs/install.html#binary-install-from-pypi>.\n",
            "  \"\"\")\n",
            "[2020-09-26 12:18:09,214] {__init__.py:50} INFO - Using executor SequentialExecutor\n",
            "[2020-09-26 12:18:09,214] {dagbag.py:417} INFO - Filling up the DagBag from /root/airflow/dags\n",
            "[2020-09-26 12:18:09,322] {taskinstance.py:670} INFO - Dependencies all met for <TaskInstance: tutorial.print_date 2015-06-01T00:00:00+00:00 [None]>\n",
            "[2020-09-26 12:18:09,333] {taskinstance.py:670} INFO - Dependencies all met for <TaskInstance: tutorial.print_date 2015-06-01T00:00:00+00:00 [None]>\n",
            "[2020-09-26 12:18:09,334] {taskinstance.py:880} INFO - \n",
            "--------------------------------------------------------------------------------\n",
            "[2020-09-26 12:18:09,334] {taskinstance.py:881} INFO - Starting attempt 1 of 2\n",
            "[2020-09-26 12:18:09,334] {taskinstance.py:882} INFO - \n",
            "--------------------------------------------------------------------------------\n",
            "[2020-09-26 12:18:09,334] {taskinstance.py:901} INFO - Executing <Task(BashOperator): print_date> on 2015-06-01T00:00:00+00:00\n",
            "[2020-09-26 12:18:09,349] {bash_operator.py:113} INFO - Tmp dir root location: \n",
            " /tmp\n",
            "[2020-09-26 12:18:09,351] {bash_operator.py:136} INFO - Temporary script location: /tmp/airflowtmp7coxnu16/print_date1yb70kxk\n",
            "[2020-09-26 12:18:09,351] {bash_operator.py:146} INFO - Running command: date\n",
            "[2020-09-26 12:18:09,363] {bash_operator.py:153} INFO - Output:\n",
            "[2020-09-26 12:18:09,369] {bash_operator.py:157} INFO - Sat Sep 26 12:18:09 UTC 2020\n",
            "[2020-09-26 12:18:09,370] {bash_operator.py:161} INFO - Command exited with return code 0\n",
            "[2020-09-26 12:18:09,375] {taskinstance.py:1070} INFO - Marking task as SUCCESS.dag_id=tutorial, task_id=print_date, execution_date=20150601T000000, start_date=20200926T121809, end_date=20200926T121809\n"
          ],
          "name": "stdout"
        }
      ]
    },
    {
      "cell_type": "code",
      "metadata": {
        "id": "KvnQR10OWVuo",
        "outputId": "7dae8898-9edd-498c-cfca-7ce6c720f0ff",
        "colab": {
          "base_uri": "https://localhost:8080/",
          "height": 360
        }
      },
      "source": [
        "!airflow test tutorial sleep 2015-06-01"
      ],
      "execution_count": 12,
      "outputs": [
        {
          "output_type": "stream",
          "text": [
            "/usr/local/lib/python3.6/dist-packages/psycopg2/__init__.py:144: UserWarning: The psycopg2 wheel package will be renamed from release 2.8; in order to keep installing from binary please use \"pip install psycopg2-binary\" instead. For details see: <http://initd.org/psycopg/docs/install.html#binary-install-from-pypi>.\n",
            "  \"\"\")\n",
            "[2020-09-26 12:18:29,752] {__init__.py:50} INFO - Using executor SequentialExecutor\n",
            "[2020-09-26 12:18:29,753] {dagbag.py:417} INFO - Filling up the DagBag from /root/airflow/dags\n",
            "[2020-09-26 12:18:29,865] {taskinstance.py:670} INFO - Dependencies all met for <TaskInstance: tutorial.sleep 2015-06-01T00:00:00+00:00 [None]>\n",
            "[2020-09-26 12:18:29,876] {taskinstance.py:670} INFO - Dependencies all met for <TaskInstance: tutorial.sleep 2015-06-01T00:00:00+00:00 [None]>\n",
            "[2020-09-26 12:18:29,876] {taskinstance.py:880} INFO - \n",
            "--------------------------------------------------------------------------------\n",
            "[2020-09-26 12:18:29,876] {taskinstance.py:881} INFO - Starting attempt 1 of 4\n",
            "[2020-09-26 12:18:29,876] {taskinstance.py:882} INFO - \n",
            "--------------------------------------------------------------------------------\n",
            "[2020-09-26 12:18:29,877] {taskinstance.py:901} INFO - Executing <Task(BashOperator): sleep> on 2015-06-01T00:00:00+00:00\n",
            "[2020-09-26 12:18:29,918] {bash_operator.py:113} INFO - Tmp dir root location: \n",
            " /tmp\n",
            "[2020-09-26 12:18:29,921] {bash_operator.py:136} INFO - Temporary script location: /tmp/airflowtmp92bp280j/sleepk17kj0s7\n",
            "[2020-09-26 12:18:29,921] {bash_operator.py:146} INFO - Running command: sleep 5\n",
            "[2020-09-26 12:18:29,943] {bash_operator.py:153} INFO - Output:\n",
            "[2020-09-26 12:18:34,953] {bash_operator.py:161} INFO - Command exited with return code 0\n",
            "[2020-09-26 12:18:34,973] {taskinstance.py:1070} INFO - Marking task as SUCCESS.dag_id=tutorial, task_id=sleep, execution_date=20150601T000000, start_date=20200926T121829, end_date=20200926T121834\n"
          ],
          "name": "stdout"
        }
      ]
    },
    {
      "cell_type": "code",
      "metadata": {
        "id": "uLgTt4nsWav1",
        "outputId": "4c15af68-5e69-43d9-e06a-109ec3bf34b1",
        "colab": {
          "base_uri": "https://localhost:8080/",
          "height": 972
        }
      },
      "source": [
        "!airflow test tutorial templated 2015-06-01"
      ],
      "execution_count": 13,
      "outputs": [
        {
          "output_type": "stream",
          "text": [
            "/usr/local/lib/python3.6/dist-packages/psycopg2/__init__.py:144: UserWarning: The psycopg2 wheel package will be renamed from release 2.8; in order to keep installing from binary please use \"pip install psycopg2-binary\" instead. For details see: <http://initd.org/psycopg/docs/install.html#binary-install-from-pypi>.\n",
            "  \"\"\")\n",
            "[2020-09-26 12:18:47,159] {__init__.py:50} INFO - Using executor SequentialExecutor\n",
            "[2020-09-26 12:18:47,160] {dagbag.py:417} INFO - Filling up the DagBag from /root/airflow/dags\n",
            "[2020-09-26 12:18:47,269] {taskinstance.py:670} INFO - Dependencies all met for <TaskInstance: tutorial.templated 2015-06-01T00:00:00+00:00 [None]>\n",
            "[2020-09-26 12:18:47,282] {taskinstance.py:670} INFO - Dependencies all met for <TaskInstance: tutorial.templated 2015-06-01T00:00:00+00:00 [None]>\n",
            "[2020-09-26 12:18:47,283] {taskinstance.py:880} INFO - \n",
            "--------------------------------------------------------------------------------\n",
            "[2020-09-26 12:18:47,283] {taskinstance.py:881} INFO - Starting attempt 1 of 2\n",
            "[2020-09-26 12:18:47,283] {taskinstance.py:882} INFO - \n",
            "--------------------------------------------------------------------------------\n",
            "[2020-09-26 12:18:47,283] {taskinstance.py:901} INFO - Executing <Task(BashOperator): templated> on 2015-06-01T00:00:00+00:00\n",
            "[2020-09-26 12:18:47,303] {bash_operator.py:113} INFO - Tmp dir root location: \n",
            " /tmp\n",
            "[2020-09-26 12:18:47,304] {bash_operator.py:136} INFO - Temporary script location: /tmp/airflowtmp0u1r3s5r/templatedexn4b_79\n",
            "[2020-09-26 12:18:47,304] {bash_operator.py:146} INFO - Running command: \n",
            "\n",
            "    echo \"2015-06-01\"\n",
            "    echo \"2015-06-08\"\n",
            "    echo \"Parameter I passed in\"\n",
            "\n",
            "    echo \"2015-06-01\"\n",
            "    echo \"2015-06-08\"\n",
            "    echo \"Parameter I passed in\"\n",
            "\n",
            "    echo \"2015-06-01\"\n",
            "    echo \"2015-06-08\"\n",
            "    echo \"Parameter I passed in\"\n",
            "\n",
            "    echo \"2015-06-01\"\n",
            "    echo \"2015-06-08\"\n",
            "    echo \"Parameter I passed in\"\n",
            "\n",
            "    echo \"2015-06-01\"\n",
            "    echo \"2015-06-08\"\n",
            "    echo \"Parameter I passed in\"\n",
            "\n",
            "[2020-09-26 12:18:47,309] {bash_operator.py:153} INFO - Output:\n",
            "[2020-09-26 12:18:47,313] {bash_operator.py:157} INFO - 2015-06-01\n",
            "[2020-09-26 12:18:47,314] {bash_operator.py:157} INFO - 2015-06-08\n",
            "[2020-09-26 12:18:47,314] {bash_operator.py:157} INFO - Parameter I passed in\n",
            "[2020-09-26 12:18:47,314] {bash_operator.py:157} INFO - 2015-06-01\n",
            "[2020-09-26 12:18:47,314] {bash_operator.py:157} INFO - 2015-06-08\n",
            "[2020-09-26 12:18:47,314] {bash_operator.py:157} INFO - Parameter I passed in\n",
            "[2020-09-26 12:18:47,314] {bash_operator.py:157} INFO - 2015-06-01\n",
            "[2020-09-26 12:18:47,314] {bash_operator.py:157} INFO - 2015-06-08\n",
            "[2020-09-26 12:18:47,314] {bash_operator.py:157} INFO - Parameter I passed in\n",
            "[2020-09-26 12:18:47,315] {bash_operator.py:157} INFO - 2015-06-01\n",
            "[2020-09-26 12:18:47,315] {bash_operator.py:157} INFO - 2015-06-08\n",
            "[2020-09-26 12:18:47,315] {bash_operator.py:157} INFO - Parameter I passed in\n",
            "[2020-09-26 12:18:47,315] {bash_operator.py:157} INFO - 2015-06-01\n",
            "[2020-09-26 12:18:47,315] {bash_operator.py:157} INFO - 2015-06-08\n",
            "[2020-09-26 12:18:47,315] {bash_operator.py:157} INFO - Parameter I passed in\n",
            "[2020-09-26 12:18:47,315] {bash_operator.py:161} INFO - Command exited with return code 0\n",
            "[2020-09-26 12:18:47,321] {taskinstance.py:1070} INFO - Marking task as SUCCESS.dag_id=tutorial, task_id=templated, execution_date=20150601T000000, start_date=20200926T121847, end_date=20200926T121847\n"
          ],
          "name": "stdout"
        }
      ]
    },
    {
      "cell_type": "code",
      "metadata": {
        "id": "hRh8eIPNWe_g"
      },
      "source": [
        "from airflow import DAG\n",
        "from airflow.operators import BashOperator\n",
        "from datetime import datetime, timedelta\n",
        "\n",
        "# Following are defaults which can be overridden later on\n",
        "default_args = {\n",
        "    'owner': 'sairam',\n",
        "    'depends_on_past': False,\n",
        "    'start_date': datetime(2016, 4, 15),\n",
        "    'email': ['meetreks@gmail.com'],\n",
        "    'email_on_failure': False,\n",
        "    'email_on_retry': False,\n",
        "    'retries': 1,\n",
        "    'retry_delay': timedelta(minutes=1),\n",
        "}\n",
        "\n",
        "dag = DAG('Helloworld', default_args=default_args)\n",
        "\n",
        "# t1, t2, t3 and t4 are examples of tasks created using operators\n",
        "\n",
        "t1 = BashOperator(\n",
        "    task_id='task_1',\n",
        "    bash_command='echo \"Hello World from Task 1\"',\n",
        "    dag=dag)\n",
        "\n",
        "t2 = BashOperator(\n",
        "    task_id='task_2',\n",
        "    bash_command='echo \"Hello World from Task 2\"',\n",
        "    dag=dag)\n",
        "\n",
        "t3 = BashOperator(\n",
        "    task_id='task_3',\n",
        "    bash_command='echo \"Hello World from Task 3\"',\n",
        "    dag=dag)\n",
        "\n",
        "t4 = BashOperator(\n",
        "    task_id='task_4',\n",
        "    bash_command='echo \"Hello World from Task 4\"',\n",
        "    dag=dag)\n",
        "\n",
        "t2.set_upstream(t1)\n",
        "t3.set_upstream(t1)\n",
        "t4.set_upstream(t2)\n",
        "t4.set_upstream(t3)"
      ],
      "execution_count": 16,
      "outputs": []
    },
    {
      "cell_type": "code",
      "metadata": {
        "id": "o0IFG-1WW0en",
        "outputId": "8fa0886e-4cc5-49f0-e3b2-0d7a13bd2361",
        "colab": {
          "base_uri": "https://localhost:8080/",
          "height": 615
        }
      },
      "source": [
        "!airflow list_dags"
      ],
      "execution_count": 17,
      "outputs": [
        {
          "output_type": "stream",
          "text": [
            "/usr/local/lib/python3.6/dist-packages/psycopg2/__init__.py:144: UserWarning: The psycopg2 wheel package will be renamed from release 2.8; in order to keep installing from binary please use \"pip install psycopg2-binary\" instead. For details see: <http://initd.org/psycopg/docs/install.html#binary-install-from-pypi>.\n",
            "  \"\"\")\n",
            "[2020-09-26 12:21:43,027] {__init__.py:50} INFO - Using executor SequentialExecutor\n",
            "[2020-09-26 12:21:43,028] {dagbag.py:417} INFO - Filling up the DagBag from /root/airflow/dags\n",
            "\n",
            "\n",
            "-------------------------------------------------------------------\n",
            "DAGS\n",
            "-------------------------------------------------------------------\n",
            "example_bash_operator\n",
            "example_branch_dop_operator_v3\n",
            "example_branch_operator\n",
            "example_complex\n",
            "example_external_task_marker_child\n",
            "example_external_task_marker_parent\n",
            "example_http_operator\n",
            "example_kubernetes_executor_config\n",
            "example_nested_branch_dag\n",
            "example_passing_params_via_test_command\n",
            "example_pig_operator\n",
            "example_python_operator\n",
            "example_short_circuit_operator\n",
            "example_skip_dag\n",
            "example_subdag_operator\n",
            "example_subdag_operator.section-1\n",
            "example_subdag_operator.section-2\n",
            "example_trigger_controller_dag\n",
            "example_trigger_target_dag\n",
            "example_xcom\n",
            "latest_only\n",
            "latest_only_with_trigger\n",
            "test_utils\n",
            "tutorial\n",
            "\n"
          ],
          "name": "stdout"
        }
      ]
    },
    {
      "cell_type": "code",
      "metadata": {
        "id": "U6FRWuFUW7_Y",
        "outputId": "c66f89c7-ebbd-41ed-bf9c-1e2b568feb94",
        "colab": {
          "base_uri": "https://localhost:8080/",
          "height": 275
        }
      },
      "source": [
        "!airflow list_tasks Helloworld"
      ],
      "execution_count": 19,
      "outputs": [
        {
          "output_type": "stream",
          "text": [
            "/usr/local/lib/python3.6/dist-packages/psycopg2/__init__.py:144: UserWarning: The psycopg2 wheel package will be renamed from release 2.8; in order to keep installing from binary please use \"pip install psycopg2-binary\" instead. For details see: <http://initd.org/psycopg/docs/install.html#binary-install-from-pypi>.\n",
            "  \"\"\")\n",
            "[2020-09-26 12:23:48,727] {__init__.py:50} INFO - Using executor SequentialExecutor\n",
            "[2020-09-26 12:23:48,728] {dagbag.py:417} INFO - Filling up the DagBag from /root/airflow/dags\n",
            "Traceback (most recent call last):\n",
            "  File \"/usr/local/bin/airflow\", line 37, in <module>\n",
            "    args.func(args)\n",
            "  File \"/usr/local/lib/python3.6/dist-packages/airflow/utils/cli.py\", line 76, in wrapper\n",
            "    return f(*args, **kwargs)\n",
            "  File \"/usr/local/lib/python3.6/dist-packages/airflow/bin/cli.py\", line 696, in list_tasks\n",
            "    dag = dag or get_dag(args)\n",
            "  File \"/usr/local/lib/python3.6/dist-packages/airflow/bin/cli.py\", line 164, in get_dag\n",
            "    'parse.'.format(args.dag_id))\n",
            "airflow.exceptions.AirflowException: dag_id could not be found: Helloworld. Either the dag did not exist or it failed to parse.\n"
          ],
          "name": "stdout"
        }
      ]
    },
    {
      "cell_type": "code",
      "metadata": {
        "id": "xWeg3qdwXi5o"
      },
      "source": [
        ""
      ],
      "execution_count": null,
      "outputs": []
    }
  ]
}